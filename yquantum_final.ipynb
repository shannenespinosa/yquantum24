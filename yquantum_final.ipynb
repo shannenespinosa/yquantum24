{
 "cells": [
  {
   "cell_type": "markdown",
   "id": "fcecc200-73c1-428a-85d9-bf395ecea579",
   "metadata": {},
   "source": [
    "# mRNA Sequence Optimization via Adiabatic Quantum Computing\n",
    "Authors: Siona Tagare, Shannen Espinosa, Gun Suer\n",
    "\n",
    "YQuantum 2024 April 13-14"
   ]
  },
  {
   "cell_type": "code",
   "execution_count": 8,
   "id": "c2f4b4e3-f8ff-414e-a26c-221bde663bce",
   "metadata": {},
   "outputs": [
    {
     "name": "stderr",
     "output_type": "stream",
     "text": [
      "/opt/conda/lib/python3.10/site-packages/pandas/core/computation/expressions.py:21: UserWarning: Pandas requires version '2.8.4' or newer of 'numexpr' (version '2.8.3' currently installed).\n",
      "  from pandas.core.computation.check import NUMEXPR_INSTALLED\n",
      "/opt/conda/lib/python3.10/site-packages/pandas/core/arrays/masked.py:60: UserWarning: Pandas requires version '1.3.6' or newer of 'bottleneck' (version '1.3.5' currently installed).\n",
      "  from pandas.core import (\n"
     ]
    }
   ],
   "source": [
    "import numpy as np\n",
    "import math\n",
    "\n",
    "from CAI import CAI\n",
    "from Bio.Seq import Seq\n",
    "\n",
    "from qiskit_algorithms import NumPyMinimumEigensolver\n",
    "from qiskit_optimization import QuadraticProgram\n",
    "from qiskit_optimization.converters import QuadraticProgramToQubo\n",
    "from qiskit_optimization.algorithms import MinimumEigenOptimizer\n",
    "from qiskit_algorithms import QAOA\n",
    "from qiskit_algorithms.optimizers import COBYLA\n",
    "from qiskit.primitives import Sampler\n",
    "from qiskit_ibm_runtime import QiskitRuntimeService\n",
    "from qiskit_ibm_runtime import Estimator, Sampler, Session, Options\n",
    "from qiskit_aer import AerSimulator"
   ]
  },
  {
   "cell_type": "code",
   "execution_count": 22,
   "id": "5d345e5f-23c4-48ad-a1ee-a864e66313e5",
   "metadata": {},
   "outputs": [
    {
     "data": {
      "text/plain": [
       "72"
      ]
     },
     "execution_count": 22,
     "metadata": {},
     "output_type": "execute_result"
    }
   ],
   "source": [
    "p = \"MSNNLDSKVGGNYNYLYRLFRKSNLKPFERDISTEIYQAGSTPCNGVEGFNCYFPLQSYGFQPTNGVGYQPY\"\n",
    "len(p)"
   ]
  },
  {
   "cell_type": "code",
   "execution_count": 10,
   "id": "76d8bc3c-4703-4670-8e33-ad9f53be4a10",
   "metadata": {},
   "outputs": [
    {
     "name": "stdout",
     "output_type": "stream",
     "text": [
      "[['ATG'], ['TCT', 'TCC', 'TCA', 'TCG', 'AGT', 'AGC'], ['AAT', 'AAC'], ['AAT', 'AAC'], ['TTA', 'TTG', 'CTT', 'CTC', 'CTA', 'CTG'], ['GAT', 'GAC'], ['TCT', 'TCC', 'TCA', 'TCG', 'AGT', 'AGC'], ['AAA', 'AAG'], ['GTT', 'GTC', 'GTA', 'GTG'], ['GGT', 'GGC', 'GGA', 'GGG'], ['GGT', 'GGC', 'GGA', 'GGG'], ['AAT', 'AAC'], ['TAT', 'TAC'], ['AAT', 'AAC'], ['TAT', 'TAC'], ['TTA', 'TTG', 'CTT', 'CTC', 'CTA', 'CTG'], ['TAT', 'TAC'], ['CGT', 'CGC', 'CGA', 'CGG', 'AGA', 'AGG'], ['TTA', 'TTG', 'CTT', 'CTC', 'CTA', 'CTG'], ['TTT', 'TTC'], ['CGT', 'CGC', 'CGA', 'CGG', 'AGA', 'AGG'], ['AAA', 'AAG'], ['TCT', 'TCC', 'TCA', 'TCG', 'AGT', 'AGC'], ['AAT', 'AAC'], ['TTA', 'TTG', 'CTT', 'CTC', 'CTA', 'CTG'], ['AAA', 'AAG'], ['CCT', 'CCC', 'CCA', 'CCG'], ['TTT', 'TTC'], ['GAA', 'GAG'], ['CGT', 'CGC', 'CGA', 'CGG', 'AGA', 'AGG'], ['GAT', 'GAC'], ['ATT', 'ATC', 'ATA'], ['TCT', 'TCC', 'TCA', 'TCG', 'AGT', 'AGC'], ['ACT', 'ACC', 'ACA', 'ACG'], ['GAA', 'GAG'], ['ATT', 'ATC', 'ATA'], ['TAT', 'TAC'], ['CAA', 'CAG'], ['GCT', 'GCC', 'GCA', 'GCG'], ['GGT', 'GGC', 'GGA', 'GGG'], ['TCT', 'TCC', 'TCA', 'TCG', 'AGT', 'AGC'], ['ACT', 'ACC', 'ACA', 'ACG'], ['CCT', 'CCC', 'CCA', 'CCG'], ['TGT', 'TGC'], ['AAT', 'AAC'], ['GGT', 'GGC', 'GGA', 'GGG'], ['GTT', 'GTC', 'GTA', 'GTG'], ['GAA', 'GAG'], ['GGT', 'GGC', 'GGA', 'GGG'], ['TTT', 'TTC'], ['AAT', 'AAC'], ['TGT', 'TGC'], ['TAT', 'TAC'], ['TTT', 'TTC'], ['CCT', 'CCC', 'CCA', 'CCG'], ['TTA', 'TTG', 'CTT', 'CTC', 'CTA', 'CTG'], ['CAA', 'CAG'], ['TCT', 'TCC', 'TCA', 'TCG', 'AGT', 'AGC'], ['TAT', 'TAC'], ['GGT', 'GGC', 'GGA', 'GGG'], ['TTT', 'TTC'], ['CAA', 'CAG'], ['CCT', 'CCC', 'CCA', 'CCG'], ['ACT', 'ACC', 'ACA', 'ACG'], ['AAT', 'AAC'], ['GGT', 'GGC', 'GGA', 'GGG'], ['GTT', 'GTC', 'GTA', 'GTG'], ['GGT', 'GGC', 'GGA', 'GGG'], ['TAT', 'TAC'], ['CAA', 'CAG'], ['CCT', 'CCC', 'CCA', 'CCG'], ['TAT', 'TAC']]\n"
     ]
    }
   ],
   "source": [
    "def p2codons(p):\n",
    "    aa_codons = {\n",
    "        'A': ['GCT', 'GCC', 'GCA', 'GCG'],\n",
    "        'R': ['CGT', 'CGC', 'CGA', 'CGG', 'AGA', 'AGG'],\n",
    "        'N': ['AAT', 'AAC'],\n",
    "        'D': ['GAT', 'GAC'],\n",
    "        'C': ['TGT', 'TGC'],\n",
    "        'Q': ['CAA', 'CAG'],\n",
    "        'E': ['GAA', 'GAG'],\n",
    "        'G': ['GGT', 'GGC', 'GGA', 'GGG'],\n",
    "        'H': ['CAT', 'CAC'],\n",
    "        'I': ['ATT', 'ATC', 'ATA'],\n",
    "        'L': ['TTA', 'TTG', 'CTT', 'CTC', 'CTA', 'CTG'],\n",
    "        'K': ['AAA', 'AAG'],\n",
    "        'M': ['ATG'],\n",
    "        'F': ['TTT', 'TTC'],\n",
    "        'P': ['CCT', 'CCC', 'CCA', 'CCG'],\n",
    "        'S': ['TCT', 'TCC', 'TCA', 'TCG', 'AGT', 'AGC'],\n",
    "        'T': ['ACT', 'ACC', 'ACA', 'ACG'],\n",
    "        'W': ['TGG'],\n",
    "        'Y': ['TAT', 'TAC'],\n",
    "        'V': ['GTT', 'GTC', 'GTA', 'GTG'],\n",
    "    }\n",
    "    \n",
    "    codon_seq = []\n",
    "    for aa in p:\n",
    "        if aa in aa_codons:\n",
    "            codons = aa_codons[aa]\n",
    "            codon_seq.append(codons)\n",
    "        else:\n",
    "            codon_seq.append([''])\n",
    "\n",
    "    return codon_seq\n",
    "\n",
    "codons = p2codons(p)\n",
    "print(codons)"
   ]
  },
  {
   "cell_type": "code",
   "execution_count": 11,
   "id": "16da2211-7236-46f8-8743-1e792d8a2930",
   "metadata": {},
   "outputs": [
    {
     "name": "stdout",
     "output_type": "stream",
     "text": [
      "0.0777\n",
      "0\n"
     ]
    }
   ],
   "source": [
    "def probabilities(codon):\n",
    "    prob = {\n",
    "        'GCT': 0.0777, 'GCC': 0.0777, 'GCA': 0.0777, 'GCG': 0.0777,\n",
    "        'CGT': 0.0157, 'CGC': 0.0157, 'CGA': 0.0157, 'CGG': 0.0157,\n",
    "        'AGA': 0.053, 'AGG': 0.053, 'CGA': 0.053, 'CGG': 0.053,\n",
    "        'GAA': 0.0656, 'GAG': 0.0656,\n",
    "        'TTT': 0.0405, 'TTC': 0.0405,\n",
    "        'GGT': 0.0691, 'GGC': 0.0691, 'GGA': 0.0691, 'GGG': 0.0691,\n",
    "        'CAT': 0.0227, 'CAC': 0.0227,\n",
    "        'ATT': 0.0591, 'ATC': 0.0591, 'ATA': 0.0591,\n",
    "        'AAA': 0.0595, 'AAG': 0.0595,\n",
    "        'TTA': 0.096, 'TTG': 0.096, 'CTT': 0.096, 'CTC': 0.096, 'CTA': 0.096, 'CTG': 0.096,\n",
    "        'ATG': 0.0238,\n",
    "        'AAT': 0.0427, 'AAC': 0.0427,\n",
    "        'CCT': 0.0469, 'CCC': 0.0469, 'CCA': 0.0469, 'CCG': 0.0469,\n",
    "        'CAA': 0.0393, 'CAG': 0.0393,\n",
    "        'CGT': 0.0526, 'CGC': 0.0526, 'CGA': 0.0526, 'CGG': 0.0526, 'AGA': 0.0526, 'AGG': 0.0526,\n",
    "        'TCT': 0.0694, 'TCC': 0.0694, 'TCA': 0.0694, 'TCG': 0.0694, 'AGT': 0.0694, 'AGC': 0.0694,\n",
    "        'ACT': 0.055, 'ACC': 0.055, 'ACA': 0.055, 'ACG': 0.055,\n",
    "        'GTT': 0.0667, 'GTC': 0.0667, 'GTA': 0.0667, 'GTG': 0.0667,\n",
    "        'TGG': 0.0118,\n",
    "        'TAT': 0.0311, 'TAC': 0.0311\n",
    "    }\n",
    "    return prob.get(codon, 0)\n",
    "\n",
    "print(probabilities('GCT'))\n",
    "print(probabilities('TAG'))"
   ]
  },
  {
   "cell_type": "code",
   "execution_count": 12,
   "id": "986c0860-ba00-4fc9-9f0b-7737defd6a48",
   "metadata": {},
   "outputs": [
    {
     "name": "stdout",
     "output_type": "stream",
     "text": [
      "1.0555555555555556\n",
      "0.7222222222222222\n",
      "0.05555555555555555\n"
     ]
    }
   ],
   "source": [
    "def gc_content(codon):\n",
    "    gc_count = 0.5\n",
    "    total_count = 0\n",
    "    for c in codon:\n",
    "        gc_count += codon.count('G') + codon.count('C')\n",
    "        total_count += len(codon)\n",
    "    gc_content = gc_count / total_count if total_count > 0 else 0\n",
    "    return gc_content\n",
    "    \n",
    "print(gc_content(\"GGG\"))\n",
    "print(gc_content(\"ACC\"))\n",
    "print(gc_content(\"AAA\"))"
   ]
  },
  {
   "cell_type": "code",
   "execution_count": 13,
   "id": "4cf8c95d-7a2f-4146-98ea-5fcdbbadc793",
   "metadata": {},
   "outputs": [
    {
     "name": "stdout",
     "output_type": "stream",
     "text": [
      "1\n",
      "0.3333333333333333\n",
      "0.2\n",
      "0.2\n",
      "0.16666666666666666\n"
     ]
    }
   ],
   "source": [
    "def minimize_repeats(codon1, codon2):\n",
    "    repeat_count = 0\n",
    "\n",
    "    if codon1[-1] == codon2[0]:\n",
    "        repeat_count += 2\n",
    "        if codon1[1] == codon1[-1] and codon1[0] == codon1[-1]:\n",
    "            repeat_count += 2\n",
    "        elif codon1[1] == codon1[-1]:\n",
    "            repeat_count += 1\n",
    "\n",
    "        if codon2[0] == codon2[1] and codon2[0] == codon2[-1]:\n",
    "            repeat_count += 2\n",
    "        elif codon2[0] == codon2[1]:\n",
    "            repeat_count += 1\n",
    "\n",
    "    if repeat_count == 0:\n",
    "        return 1\n",
    "    else:\n",
    "        return 1 / repeat_count\n",
    "\n",
    "print(minimize_repeats(\"ATT\", \"ACA\"))\n",
    "print(minimize_repeats(\"ATT\", \"TCA\"))\n",
    "print(minimize_repeats(\"ATT\", \"TTT\"))\n",
    "print(minimize_repeats(\"TTT\", \"TTA\"))\n",
    "print(minimize_repeats(\"TTT\", \"TTT\"))"
   ]
  },
  {
   "cell_type": "code",
   "execution_count": 14,
   "id": "fe276907-f4a0-447b-bd24-13e0a8d49bc2",
   "metadata": {},
   "outputs": [
    {
     "name": "stdout",
     "output_type": "stream",
     "text": [
      "1.0\n",
      "0\n",
      "0.5\n",
      "1.0\n",
      "1.0\n"
     ]
    },
    {
     "name": "stderr",
     "output_type": "stream",
     "text": [
      "/opt/conda/lib/python3.10/site-packages/numpy/lib/function_base.py:520: RuntimeWarning: Mean of empty slice.\n",
      "  avg = a.mean(axis, **keepdims_kw)\n",
      "/opt/conda/lib/python3.10/site-packages/numpy/core/_methods.py:129: RuntimeWarning: invalid value encountered in scalar divide\n",
      "  ret = ret.dtype.type(ret / rcount)\n"
     ]
    }
   ],
   "source": [
    "def cai_value(codon1, codon2):\n",
    "    cai = CAI(Seq(codon1), reference=[Seq(codon2)])\n",
    "    if math.isnan(cai):\n",
    "        return 0\n",
    "    else:\n",
    "        return cai\n",
    "\n",
    "print(cai_value(\"ATA\", \"ATG\"))\n",
    "print(cai_value(\"TAG\", \"GAT\"))\n",
    "print(cai_value(\"AAT\", \"AAC\"))\n",
    "print(cai_value(\"AAC\", \"ATA\"))\n",
    "print(cai_value(\"GCG\", \"AAA\"))"
   ]
  },
  {
   "cell_type": "code",
   "execution_count": 15,
   "id": "1ba725cc-dfcd-4178-9dc4-55b3d8641d69",
   "metadata": {},
   "outputs": [
    {
     "name": "stdout",
     "output_type": "stream",
     "text": [
      "0.015194537037037038\n",
      "0.0\n",
      "0.019696033950617288\n",
      "0.05452157407407408\n",
      "0.27111064814814817\n"
     ]
    }
   ],
   "source": [
    "def score(codon1, codon2):\n",
    "    score = probabilities(codon1) * probabilities(codon2) * gc_content(codon1) * gc_content(codon2) * minimize_repeats(codon1, codon2) * cai_value(codon1, codon2)\n",
    "    return score * 1000\n",
    "\n",
    "print(score(\"ATA\", \"ATG\"))\n",
    "print(score(\"TAG\", \"GAT\"))\n",
    "print(score(\"AAT\", \"AAC\"))\n",
    "print(score(\"AAC\", \"ATA\"))\n",
    "print(score(\"GCG\", \"AAA\"))"
   ]
  },
  {
   "cell_type": "code",
   "execution_count": 16,
   "id": "97923b5b-5657-4ad9-96ed-5a3e9bd785a3",
   "metadata": {},
   "outputs": [
    {
     "name": "stdout",
     "output_type": "stream",
     "text": [
      "Best score: 2.5122371604938274\n"
     ]
    }
   ],
   "source": [
    "def best_score(codonlist1, codonlist2):\n",
    "    max_score = 0\n",
    "    \n",
    "    for codon1 in codonlist1:\n",
    "        for codon2 in codonlist2:\n",
    "            current_score = score(codon1, codon2)\n",
    "            if current_score > max_score:\n",
    "                max_score = current_score\n",
    "    \n",
    "    return max_score\n",
    "\n",
    "codonlist1 = ['TCT', 'TCC', 'TCA', 'TCG', 'AGT', 'AGC']\n",
    "codonlist2 = ['TCT', 'TCC', 'TCA', 'TCG', 'AGT', 'AGC']\n",
    "\n",
    "best = best_score(codonlist1, codonlist2)\n",
    "print(\"Best score:\", best)"
   ]
  },
  {
   "cell_type": "code",
   "execution_count": 21,
   "id": "a948a1e1-0931-4026-abde-f7f4193edd44",
   "metadata": {},
   "outputs": [
    {
     "name": "stdout",
     "output_type": "stream",
     "text": [
      "[[0.         0.         0.         ... 0.         0.         0.        ]\n",
      " [0.         0.         0.83230735 ... 0.         0.         0.        ]\n",
      " [0.         0.83230735 0.         ... 0.         0.         0.        ]\n",
      " ...\n",
      " [0.         0.         0.         ... 0.         1.40513269 0.        ]\n",
      " [0.         0.         0.         ... 1.40513269 0.         0.59874219]\n",
      " [0.         0.         0.         ... 0.         0.59874219 0.        ]]\n"
     ]
    }
   ],
   "source": [
    "j_matrix = np.zeros((len(p), len(p)))\n",
    "codons = p2codons(p)\n",
    "\n",
    "def calculate_j_matrix():\n",
    "    for i in range(len(p) - 1):\n",
    "        j_matrix[i, i + 1] = best_score(codons[i], codons[i + 1])\n",
    "        j_matrix[i + 1, i] = j_matrix[i, i + 1]\n",
    "    \n",
    "    return j_matrix\n",
    "        \n",
    "print(calculate_j_matrix())"
   ]
  },
  {
   "cell_type": "code",
   "execution_count": 23,
   "id": "b371471d-0834-4a7c-a2b2-bc7db37ca10b",
   "metadata": {},
   "outputs": [],
   "source": [
    "j_matrix = calculate_j_matrix()\n",
    "binary_vars = []\n",
    "\n",
    "qp = QuadraticProgram()\n",
    "linear_coefficients = {}\n",
    "quadratic_coefficients = {}\n",
    "for i in range(len(j_matrix)):\n",
    "    for j in range(len(j_matrix)):\n",
    "        var = qp.binary_var(name=f'x_{i}_{j}')\n",
    "        binary_vars.append(var)\n",
    "        linear_coefficients[f'x_{i}_{j}'] = j_matrix[i, j]\n",
    "        if j > i:\n",
    "            quadratic_coefficients[(f'x_{i}_{j-1}', f'x_{i+1}_{j}')] = j_matrix[i, j]\n",
    "            \n",
    "for j in range(len(j_matrix)):\n",
    "    constraint_dict = {var_name: 1.0 for var_name in [f'x_{i}_{j}' for i in range(len(j_matrix))]}\n",
    "    qp.linear_constraint(linear=constraint_dict, sense='==', rhs=1.0)\n",
    "\n",
    "qp.maximize(linear=linear_coefficients, quadratic=quadratic_coefficients)"
   ]
  },
  {
   "cell_type": "code",
   "execution_count": 24,
   "id": "1dc59783-54b4-40fe-b650-7512dc1dc0df",
   "metadata": {
    "tags": []
   },
   "outputs": [
    {
     "name": "stderr",
     "output_type": "stream",
     "text": [
      "qiskit_runtime_service.__init__:INFO:2024-04-14 13:16:53,568: Default instance: ibm-q/open/main\n"
     ]
    }
   ],
   "source": [
    "service = QiskitRuntimeService(channel=\"ibm_quantum\")\n",
    "backend = service.get_backend(\"ibmq_qasm_simulator\") # delete line when ready\n",
    "simulator = AerSimulator()"
   ]
  },
  {
   "cell_type": "code",
   "execution_count": null,
   "id": "7695d064-4e05-411b-8019-af0f6f47daa1",
   "metadata": {
    "tags": []
   },
   "outputs": [],
   "source": [
    "exact_mes = NumPyMinimumEigensolver()\n",
    "exact = MinimumEigenOptimizer(exact_mes)\n",
    "exact_result = exact.solve(qp)\n",
    "print(\"classical result\")\n",
    "print_results(exact_result)"
   ]
  },
  {
   "cell_type": "code",
   "execution_count": null,
   "id": "06f9705e-bfd2-4735-a17f-49dd62268bb3",
   "metadata": {
    "tags": []
   },
   "outputs": [],
   "source": [
    "# with Session(service=service, backend=backend) as session:\n",
    "#    qaoa = QAOA(sampler=Sampler(session=session), optimizer=COBYLA())\n",
    "#    min_eigen_optimizer = MinimumEigenOptimizer(qaoa)\n",
    "# quantum_result = min_eigen_optimizer.solve(qp)\n",
    "\n",
    "qaoa = QAOA(sampler=simulator, optimizer=COBYLA())\n",
    "min_eigen_optimizer = MinimumEigenOptimizer(qaoa)\n",
    "quantum_result = min_eigen_optimizer.solve(qp)\n",
    "print(\"quantum results:\")\n",
    "print_results(quantum_result)"
   ]
  },
  {
   "cell_type": "code",
   "execution_count": null,
   "id": "cab93467-ee9b-44d4-a1bd-98a5ff7f0b97",
   "metadata": {
    "tags": []
   },
   "outputs": [],
   "source": [
    "print(linear_coefficients)\n",
    "print(quadratic_coefficients)"
   ]
  },
  {
   "cell_type": "code",
   "execution_count": null,
   "id": "ded10868-714b-49ac-9270-994197b73a10",
   "metadata": {},
   "outputs": [],
   "source": []
  }
 ],
 "metadata": {
  "kernelspec": {
   "display_name": "Qiskit v1.0.2 (ipykernel)",
   "language": "python",
   "name": "python3"
  },
  "language_info": {
   "codemirror_mode": {
    "name": "ipython",
    "version": 3
   },
   "file_extension": ".py",
   "mimetype": "text/x-python",
   "name": "python",
   "nbconvert_exporter": "python",
   "pygments_lexer": "ipython3",
   "version": "3.10.8"
  },
  "widgets": {
   "application/vnd.jupyter.widget-state+json": {
    "state": {},
    "version_major": 2,
    "version_minor": 0
   }
  }
 },
 "nbformat": 4,
 "nbformat_minor": 5
}
