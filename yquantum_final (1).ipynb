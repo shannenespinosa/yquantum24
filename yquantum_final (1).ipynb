{
 "cells": [
  {
   "cell_type": "markdown",
   "id": "fcecc200-73c1-428a-85d9-bf395ecea579",
   "metadata": {
    "tags": []
   },
   "source": [
    "# mRNA Sequence Optimization via Adiabatic Quantum Computing\n",
    "Authors: Siona Tagare, Shannen Espinosa, Gun Suer\n",
    "\n",
    "YQuantum 2024 April 13-14\n",
    "\n"
   ]
  },
  {
   "cell_type": "markdown",
   "id": "cb2e32dd-9335-47bd-9052-517308c171a1",
   "metadata": {},
   "source": [
    "# Terminology\n",
    "When analyzing mRNA, there are some key words to remember. mRNA is made up of amino acids, such as N or M). Each amino acid is made up of a codon, a sequence of 3 nucleic acids, (such as ATG or AAT). There are multiple options of codons for each amino acid – for example, the amino acid N can be made up of either codon AAT or codon AAC. The selection of codons is extremely important to the overall mRNA sequence as choosing certain codons in re"
   ]
  },
  {
   "cell_type": "code",
   "execution_count": 3,
   "id": "fd12422f-a1e8-4afe-8385-1ba37ac5a39f",
   "metadata": {
    "tags": []
   },
   "outputs": [
    {
     "name": "stdout",
     "output_type": "stream",
     "text": [
      "Collecting git+https://github.com/Benjamin-Lee/CodonAdaptationIndex.git\n",
      "  Cloning https://github.com/Benjamin-Lee/CodonAdaptationIndex.git to /tmp/pip-req-build-1k91joc_\n",
      "  Running command git clone --filter=blob:none --quiet https://github.com/Benjamin-Lee/CodonAdaptationIndex.git /tmp/pip-req-build-1k91joc_\n",
      "  Resolved https://github.com/Benjamin-Lee/CodonAdaptationIndex.git to commit b6e017a92c58829f6a5aec8c26a21262bc2a6610\n",
      "  Preparing metadata (setup.py) ... \u001b[?25ldone\n",
      "\u001b[?25hRequirement already satisfied: scipy in /opt/conda/lib/python3.10/site-packages (from CAI==1.0.5.dev3+gb6e017a) (1.12.0)\n",
      "Collecting biopython (from CAI==1.0.5.dev3+gb6e017a)\n",
      "  Using cached biopython-1.83-cp310-cp310-manylinux_2_17_x86_64.manylinux2014_x86_64.whl.metadata (13 kB)\n",
      "Requirement already satisfied: click in /opt/conda/lib/python3.10/site-packages (from CAI==1.0.5.dev3+gb6e017a) (8.1.3)\n",
      "Requirement already satisfied: numpy in /opt/conda/lib/python3.10/site-packages (from biopython->CAI==1.0.5.dev3+gb6e017a) (1.23.5)\n",
      "Using cached biopython-1.83-cp310-cp310-manylinux_2_17_x86_64.manylinux2014_x86_64.whl (3.1 MB)\n",
      "Building wheels for collected packages: CAI\n",
      "  Building wheel for CAI (setup.py) ... \u001b[?25ldone\n",
      "\u001b[?25h  Created wheel for CAI: filename=CAI-1.0.5.dev3+gb6e017a.d20240414-py3-none-any.whl size=7822 sha256=7d35d3afb9cf7299417d4ebe5c0661da594add132251e650ae7fd43b18e71cf7\n",
      "  Stored in directory: /tmp/pip-ephem-wheel-cache-s8jk1ucs/wheels/b7/62/7a/6b6b3df9a7e18e6d1cff29b703318c7607f833e330c59bfdbc\n",
      "Successfully built CAI\n",
      "Installing collected packages: biopython, CAI\n",
      "Successfully installed CAI-1.0.5.dev3+gb6e017a.d20240414 biopython-1.83\n",
      "Note: you may need to restart the kernel to use updated packages.\n"
     ]
    }
   ],
   "source": [
    "pip install git+https://github.com/Benjamin-Lee/CodonAdaptationIndex.git"
   ]
  },
  {
   "cell_type": "code",
   "execution_count": null,
   "id": "75725e05-152e-475b-9a82-f39add7ee8fe",
   "metadata": {},
   "outputs": [],
   "source": [
    "pip install biopython\n",
    "pip install git+https://github.com/Benjamin-Lee/CodonAdaptationIndex.git"
   ]
  },
  {
   "cell_type": "code",
   "execution_count": 7,
   "id": "c2f4b4e3-f8ff-414e-a26c-221bde663bce",
   "metadata": {
    "tags": []
   },
   "outputs": [
    {
     "name": "stdout",
     "output_type": "stream",
     "text": [
      "Traceback \u001b[1;36m(most recent call last)\u001b[0m:\n",
      "\u001b[1;36m  Cell \u001b[1;32mIn[7], line 8\u001b[1;36m\n",
      "\u001b[1;33m    from qiskit_optimization import QuadraticProgram\u001b[1;36m\n",
      "\u001b[1;31mModuleNotFoundError\u001b[0m\u001b[1;31m:\u001b[0m No module named 'qiskit_optimization'\n",
      "\n",
      "Use %tb to get the full traceback.\n"
     ]
    },
    {
     "data": {
      "text/html": [
       "\n",
       "<style>\n",
       ".button {\n",
       "  border: none;\n",
       "  color: white;\n",
       "  padding: 4px 8px;\n",
       "  text-align: center;\n",
       "  text-decoration: none;\n",
       "  display: inline-block;\n",
       "  font-size: 12px;\n",
       "  margin: 4px 2px;\n",
       "  transition-duration: 0.2s;\n",
       "  cursor: pointer;\n",
       "}\n",
       ".iqx-button {\n",
       "  background-color: #0f62fe; \n",
       "  color: white; \n",
       "}\n",
       ".iqx-button:hover {\n",
       "  background-color: #0043ce;\n",
       "  color: white;\n",
       "}\n",
       "</style>\n",
       "<a href=\"https://stackoverflow.com/search?q=ModuleNotFoundError: No module named 'qiskit_optimization'\" target='_blank'><button class='button iqx-button'>Search for solution online</button></a>\n"
      ],
      "text/plain": [
       "<IPython.core.display.HTML object>"
      ]
     },
     "metadata": {},
     "output_type": "display_data"
    }
   ],
   "source": [
    "import numpy as np\n",
    "import math\n",
    "\n",
    "from CAI import CAI\n",
    "from Bio.Seq import Seq\n",
    "\n",
    "from qiskit_algorithms import NumPyMinimumEigensolver\n",
    "from qiskit_optimization import QuadraticProgram\n",
    "from qiskit_optimization.converters import QuadraticProgramToQubo\n",
    "from qiskit_optimization.algorithms import MinimumEigenOptimizer\n",
    "from qiskit_algorithms import QAOA\n",
    "from qiskit_algorithms.optimizers import COBYLA\n",
    "from qiskit.primitives import Sampler\n",
    "from qiskit_ibm_runtime import QiskitRuntimeService\n",
    "from qiskit_ibm_runtime import Estimator, Sampler, Session, Options\n",
    "from qiskit_aer import AerSimulator"
   ]
  },
  {
   "cell_type": "code",
   "execution_count": 1,
   "id": "5d345e5f-23c4-48ad-a1ee-a864e66313e5",
   "metadata": {
    "tags": []
   },
   "outputs": [
    {
     "data": {
      "text/plain": [
       "3"
      ]
     },
     "execution_count": 1,
     "metadata": {},
     "output_type": "execute_result"
    }
   ],
   "source": [
    "p = \"NVD\"\n",
    "len(p)"
   ]
  },
  {
   "cell_type": "code",
   "execution_count": 2,
   "id": "76d8bc3c-4703-4670-8e33-ad9f53be4a10",
   "metadata": {
    "tags": []
   },
   "outputs": [
    {
     "name": "stdout",
     "output_type": "stream",
     "text": [
      "[['AAT', 'AAC'], ['GTT', 'GTC', 'GTA', 'GTG'], ['GAT', 'GAC']]\n"
     ]
    }
   ],
   "source": [
    "def p2codons(p):\n",
    "    aa_codons = {\n",
    "        'A': ['GCT', 'GCC', 'GCA', 'GCG'],\n",
    "        'R': ['CGT', 'CGC', 'CGA', 'CGG', 'AGA', 'AGG'],\n",
    "        'N': ['AAT', 'AAC'],\n",
    "        'D': ['GAT', 'GAC'],\n",
    "        'C': ['TGT', 'TGC'],\n",
    "        'Q': ['CAA', 'CAG'],\n",
    "        'E': ['GAA', 'GAG'],\n",
    "        'G': ['GGT', 'GGC', 'GGA', 'GGG'],\n",
    "        'H': ['CAT', 'CAC'],\n",
    "        'I': ['ATT', 'ATC', 'ATA'],\n",
    "        'L': ['TTA', 'TTG', 'CTT', 'CTC', 'CTA', 'CTG'],\n",
    "        'K': ['AAA', 'AAG'],\n",
    "        'M': ['ATG'],\n",
    "        'F': ['TTT', 'TTC'],\n",
    "        'P': ['CCT', 'CCC', 'CCA', 'CCG'],\n",
    "        'S': ['TCT', 'TCC', 'TCA', 'TCG', 'AGT', 'AGC'],\n",
    "        'T': ['ACT', 'ACC', 'ACA', 'ACG'],\n",
    "        'W': ['TGG'],\n",
    "        'Y': ['TAT', 'TAC'],\n",
    "        'V': ['GTT', 'GTC', 'GTA', 'GTG'],\n",
    "    }\n",
    "    \n",
    "    codon_seq = []\n",
    "    for aa in p:\n",
    "        if aa in aa_codons:\n",
    "            codons = aa_codons[aa]\n",
    "            codon_seq.append(codons)\n",
    "        else:\n",
    "            codon_seq.append([''])\n",
    "\n",
    "    return codon_seq\n",
    "\n",
    "codons = p2codons(p)\n",
    "print(codons)"
   ]
  },
  {
   "cell_type": "code",
   "execution_count": 3,
   "id": "16da2211-7236-46f8-8743-1e792d8a2930",
   "metadata": {
    "tags": []
   },
   "outputs": [],
   "source": [
    "def probabilities(codon):\n",
    "    prob = {\n",
    "        'GCT': 0.0777, 'GCC': 0.0777, 'GCA': 0.0777, 'GCG': 0.0777,\n",
    "        'CGT': 0.0157, 'CGC': 0.0157, 'CGA': 0.0157, 'CGG': 0.0157,\n",
    "        'AGA': 0.053, 'AGG': 0.053, 'CGA': 0.053, 'CGG': 0.053,\n",
    "        'GAA': 0.0656, 'GAG': 0.0656,\n",
    "        'TTT': 0.0405, 'TTC': 0.0405,\n",
    "        'GGT': 0.0691, 'GGC': 0.0691, 'GGA': 0.0691, 'GGG': 0.0691,\n",
    "        'CAT': 0.0227, 'CAC': 0.0227,\n",
    "        'ATT': 0.0591, 'ATC': 0.0591, 'ATA': 0.0591,\n",
    "        'AAA': 0.0595, 'AAG': 0.0595,\n",
    "        'TTA': 0.096, 'TTG': 0.096, 'CTT': 0.096, 'CTC': 0.096, 'CTA': 0.096, 'CTG': 0.096,\n",
    "        'ATG': 0.0238,\n",
    "        'AAT': 0.0427, 'AAC': 0.0427,\n",
    "        'CCT': 0.0469, 'CCC': 0.0469, 'CCA': 0.0469, 'CCG': 0.0469,\n",
    "        'CAA': 0.0393, 'CAG': 0.0393,\n",
    "        'CGT': 0.0526, 'CGC': 0.0526, 'CGA': 0.0526, 'CGG': 0.0526, 'AGA': 0.0526, 'AGG': 0.0526,\n",
    "        'TCT': 0.0694, 'TCC': 0.0694, 'TCA': 0.0694, 'TCG': 0.0694, 'AGT': 0.0694, 'AGC': 0.0694,\n",
    "        'ACT': 0.055, 'ACC': 0.055, 'ACA': 0.055, 'ACG': 0.055,\n",
    "        'GTT': 0.0667, 'GTC': 0.0667, 'GTA': 0.0667, 'GTG': 0.0667,\n",
    "        'TGG': 0.0118,\n",
    "        'TAT': 0.0311, 'TAC': 0.0311\n",
    "    }\n",
    "    return prob.get(codon, 0)"
   ]
  },
  {
   "cell_type": "code",
   "execution_count": 4,
   "id": "986c0860-ba00-4fc9-9f0b-7737defd6a48",
   "metadata": {
    "tags": []
   },
   "outputs": [
    {
     "name": "stdout",
     "output_type": "stream",
     "text": [
      "1.0555555555555556\n",
      "0.7222222222222222\n",
      "0.05555555555555555\n"
     ]
    }
   ],
   "source": [
    "def gc_content(codon):\n",
    "    gc_count = 0.5\n",
    "    total_count = 0\n",
    "    for c in codon:\n",
    "        gc_count += codon.count('G') + codon.count('C')\n",
    "        total_count += len(codon)\n",
    "    gc_content = gc_count / total_count if total_count > 0 else 0\n",
    "    return gc_content\n",
    "    \n",
    "print(gc_content(\"GGG\"))\n",
    "print(gc_content(\"ACC\"))\n",
    "print(gc_content(\"AAA\"))"
   ]
  },
  {
   "cell_type": "code",
   "execution_count": 5,
   "id": "4cf8c95d-7a2f-4146-98ea-5fcdbbadc793",
   "metadata": {
    "tags": []
   },
   "outputs": [
    {
     "name": "stdout",
     "output_type": "stream",
     "text": [
      "1\n",
      "0.3333333333333333\n",
      "0.2\n",
      "0.2\n",
      "0.16666666666666666\n"
     ]
    }
   ],
   "source": [
    "def minimize_repeats(codon1, codon2):\n",
    "    repeat_count = 0\n",
    "\n",
    "    if codon1[-1] == codon2[0]:\n",
    "        repeat_count += 2\n",
    "        if codon1[1] == codon1[-1] and codon1[0] == codon1[-1]:\n",
    "            repeat_count += 2\n",
    "        elif codon1[1] == codon1[-1]:\n",
    "            repeat_count += 1\n",
    "\n",
    "        if codon2[0] == codon2[1] and codon2[0] == codon2[-1]:\n",
    "            repeat_count += 2\n",
    "        elif codon2[0] == codon2[1]:\n",
    "            repeat_count += 1\n",
    "\n",
    "    if repeat_count == 0:\n",
    "        return 1\n",
    "    else:\n",
    "        return 1 / repeat_count\n",
    "\n",
    "print(minimize_repeats(\"ATT\", \"ACA\"))\n",
    "print(minimize_repeats(\"ATT\", \"TCA\"))\n",
    "print(minimize_repeats(\"ATT\", \"TTT\"))\n",
    "print(minimize_repeats(\"TTT\", \"TTA\"))\n",
    "print(minimize_repeats(\"TTT\", \"TTT\"))"
   ]
  },
  {
   "cell_type": "code",
   "execution_count": 8,
   "id": "fe276907-f4a0-447b-bd24-13e0a8d49bc2",
   "metadata": {
    "tags": []
   },
   "outputs": [
    {
     "name": "stdout",
     "output_type": "stream",
     "text": [
      "1.0\n",
      "0\n",
      "0.5\n",
      "1.0\n",
      "1.0\n"
     ]
    },
    {
     "name": "stderr",
     "output_type": "stream",
     "text": [
      "/opt/conda/lib/python3.10/site-packages/numpy/lib/function_base.py:520: RuntimeWarning: Mean of empty slice.\n",
      "  avg = a.mean(axis, **keepdims_kw)\n",
      "/opt/conda/lib/python3.10/site-packages/numpy/core/_methods.py:129: RuntimeWarning: invalid value encountered in scalar divide\n",
      "  ret = ret.dtype.type(ret / rcount)\n"
     ]
    }
   ],
   "source": [
    "def cai_value(codon1, codon2):\n",
    "    cai = CAI(Seq(codon1), reference=[Seq(codon2)])\n",
    "    if math.isnan(cai):\n",
    "        return 0\n",
    "    else:\n",
    "        return cai\n",
    "\n",
    "print(cai_value(\"ATA\", \"ATG\"))\n",
    "print(cai_value(\"TAG\", \"GAT\"))\n",
    "print(cai_value(\"AAT\", \"AAC\"))\n",
    "print(cai_value(\"AAC\", \"ATA\"))\n",
    "print(cai_value(\"GCG\", \"AAA\"))"
   ]
  },
  {
   "cell_type": "code",
   "execution_count": 9,
   "id": "1ba725cc-dfcd-4178-9dc4-55b3d8641d69",
   "metadata": {
    "tags": []
   },
   "outputs": [
    {
     "name": "stdout",
     "output_type": "stream",
     "text": [
      "0.015194537037037038\n",
      "0.0\n",
      "0.019696033950617288\n",
      "0.05452157407407408\n",
      "0.27111064814814817\n"
     ]
    }
   ],
   "source": [
    "def score(codon1, codon2):\n",
    "    score = probabilities(codon1) * probabilities(codon2) * gc_content(codon1) * gc_content(codon2) * minimize_repeats(codon1, codon2) * cai_value(codon1, codon2)\n",
    "    return score * 1000\n",
    "\n",
    "print(score(\"ATA\", \"ATG\"))\n",
    "print(score(\"TAG\", \"GAT\"))\n",
    "print(score(\"AAT\", \"AAC\"))\n",
    "print(score(\"AAC\", \"ATA\"))\n",
    "print(score(\"GCG\", \"AAA\"))"
   ]
  },
  {
   "cell_type": "code",
   "execution_count": 26,
   "id": "97923b5b-5657-4ad9-96ed-5a3e9bd785a3",
   "metadata": {
    "tags": []
   },
   "outputs": [
    {
     "name": "stdout",
     "output_type": "stream",
     "text": [
      "Best score: 2.5122371604938274\n"
     ]
    }
   ],
   "source": [
    "def best_score(codonlist1, codonlist2):\n",
    "    max_score = 0\n",
    "    \n",
    "    for codon1 in codonlist1:\n",
    "        for codon2 in codonlist2:\n",
    "            current_score = score(codon1, codon2)\n",
    "            if current_score > max_score:\n",
    "                max_score = current_score\n",
    "    \n",
    "    return max_score\n",
    "\n",
    "codonlist1 = ['TCT', 'TCC', 'TCA', 'TCG', 'AGT', 'AGC']\n",
    "codonlist2 = ['TCT', 'TCC', 'TCA', 'TCG', 'AGT', 'AGC']\n",
    "\n",
    "best = best_score(codonlist1, codonlist2)\n",
    "print(\"Best score:\", best)"
   ]
  },
  {
   "cell_type": "code",
   "execution_count": 27,
   "id": "a948a1e1-0931-4026-abde-f7f4193edd44",
   "metadata": {
    "tags": []
   },
   "outputs": [
    {
     "name": "stdout",
     "output_type": "stream",
     "text": [
      "[[0.         0.79992651 0.        ]\n",
      " [0.79992651 0.         0.        ]\n",
      " [0.         0.         0.        ]]\n"
     ]
    }
   ],
   "source": [
    "j_matrix = np.zeros((len(p), len(p)))\n",
    "codons = p2codons(p)\n",
    "\n",
    "def calculate_j_matrix():\n",
    "    for i in range(len(p) - 1):\n",
    "        j_matrix[i, i + 1] = best_score(codons[i], codons[i + 1])\n",
    "        j_matrix[i + 1, i] = j_matrix[i, i + 1]\n",
    "    \n",
    "    return j_matrix\n",
    "        \n",
    "print(calculate_j_matrix())"
   ]
  },
  {
   "cell_type": "markdown",
   "id": "8a4d8097-3283-4952-9e7f-c23370f33b12",
   "metadata": {},
   "source": [
    "## Finding matrix for linear coefficients\n",
    "This matrix is meant to represent the probabililty of selecting a codon for an amino acid. The rows of this matrix represent all potential codons for all the amino acids we have found, and the columns represent all amino acids. Each cell represents the probability of selecting the jth codon for the ith amino acid."
   ]
  },
  {
   "cell_type": "code",
   "execution_count": 33,
   "id": "e6bd1106-2cff-46dd-8eda-25dbeb851765",
   "metadata": {
    "tags": []
   },
   "outputs": [
    {
     "name": "stdout",
     "output_type": "stream",
     "text": [
      "[['AAT', 'AAC'], ['GTT', 'GTC', 'GTA', 'GTG'], ['GAT', 'GAC']]\n",
      "[[0.0427 0.0667 0.    ]\n",
      " [0.0427 0.0667 0.    ]\n",
      " [0.     0.0667 0.    ]\n",
      " [0.     0.0667 0.    ]\n",
      " [0.     0.     0.    ]\n",
      " [0.     0.     0.    ]\n",
      " [0.     0.     0.    ]\n",
      " [0.     0.     0.    ]]\n"
     ]
    }
   ],
   "source": [
    "aa_codons = {\n",
    "    'A': ['GCT', 'GCC', 'GCA', 'GCG'],\n",
    "    'R': ['CGT', 'CGC', 'CGA', 'CGG', 'AGA', 'AGG'],\n",
    "    'N': ['AAT', 'AAC'],\n",
    "    'D': ['GAT', 'GAC'],\n",
    "    'C': ['TGT', 'TGC'],\n",
    "    'Q': ['CAA', 'CAG'],\n",
    "    'E': ['GAA', 'GAG'],\n",
    "    'G': ['GGT', 'GGC', 'GGA', 'GGG'],\n",
    "    'H': ['CAT', 'CAC'],\n",
    "    'I': ['ATT', 'ATC', 'ATA'],\n",
    "    'L': ['TTA', 'TTG', 'CTT', 'CTC', 'CTA', 'CTG'],\n",
    "    'K': ['AAA', 'AAG'],\n",
    "    'M': ['ATG'],\n",
    "    'F': ['TTT', 'TTC'],\n",
    "    'P': ['CCT', 'CCC', 'CCA', 'CCG'],\n",
    "    'S': ['TCT', 'TCC', 'TCA', 'TCG', 'AGT', 'AGC'],\n",
    "    'T': ['ACT', 'ACC', 'ACA', 'ACG'],\n",
    "    'W': ['TGG'],\n",
    "    'Y': ['TAT', 'TAC'],\n",
    "    'V': ['GTT', 'GTC', 'GTA', 'GTG'],\n",
    "}\n",
    "\n",
    "codons = p2codons(p)\n",
    "num_codons = 0\n",
    "\n",
    "for amino in p:\n",
    "    for codon in aa_codons[amino]:\n",
    "        num_codons += 1\n",
    "\n",
    "weights_matrix = np.zeros((num_codons, len(p)))\n",
    "\n",
    "#find probabilities\n",
    "for i, amino in enumerate(p):\n",
    "    for j, codon in enumerate(codons):\n",
    "        for k, c in enumerate(codon) :\n",
    "            if c in aa_codons[amino]:\n",
    "                weights_matrix[k][i] = probabilities(c)\n",
    "            \n",
    "print(weights_matrix)"
   ]
  },
  {
   "cell_type": "markdown",
   "id": "20ad497e-94d7-4cdf-bc18-4f00df19bdc9",
   "metadata": {},
   "source": [
    "# Matrix explanations\n",
    "We create our algorithm by generating linear coefficients and quadratic coefficients for our codons in certain amino acid positions. \n",
    "\n",
    "## Linear coefficients\n",
    "The linear coefficients matrix has all possible codons in the rows and all amino acids in the columns. The numbers in these matrices correspond to the probability of selecting the ith codon for the jth amino acid.\n",
    "\n",
    "For example, with the amino acid sequence NM:\n",
    "\n",
    "![alt](linear.jpeg)\n",
    "\n",
    "## Quadratic coefficients\n",
    "The quadratic coefficients represent the stability of the sequence based on a pair of codons. The numbers correspond to the stability if the ith codon is selected for the previous amino acid and the i+1th codon is selected for the current amino acid. This nearest neighbor stability technique is adapted by many codon optimization solutions.\n",
    "\n",
    "## Algorithm\n",
    "These coefficients are then attached to a quadratic program alongside constraints to ensure each amino acid has only one codon choice. This quadratic program is maximized to obtain an objective function, and then cast to an Ising hamiltonian by Qiskit's MinimumEigenOptimizer. A QAOA algorithm is applied to obtain final results. "
   ]
  },
  {
   "cell_type": "code",
   "execution_count": 34,
   "id": "b371471d-0834-4a7c-a2b2-bc7db37ca10b",
   "metadata": {
    "tags": []
   },
   "outputs": [
    {
     "name": "stdout",
     "output_type": "stream",
     "text": [
      "Traceback \u001b[1;36m(most recent call last)\u001b[0m:\n",
      "\u001b[1;36m  Cell \u001b[1;32mIn[34], line 1\u001b[1;36m\n",
      "\u001b[1;33m    j_matrix = calculate_j_matrix()\u001b[1;36m\n",
      "\u001b[1;31mNameError\u001b[0m\u001b[1;31m:\u001b[0m name 'calculate_j_matrix' is not defined\n",
      "\n",
      "Use %tb to get the full traceback.\n"
     ]
    },
    {
     "data": {
      "text/html": [
       "\n",
       "<style>\n",
       ".button {\n",
       "  border: none;\n",
       "  color: white;\n",
       "  padding: 4px 8px;\n",
       "  text-align: center;\n",
       "  text-decoration: none;\n",
       "  display: inline-block;\n",
       "  font-size: 12px;\n",
       "  margin: 4px 2px;\n",
       "  transition-duration: 0.2s;\n",
       "  cursor: pointer;\n",
       "}\n",
       ".iqx-button {\n",
       "  background-color: #0f62fe; \n",
       "  color: white; \n",
       "}\n",
       ".iqx-button:hover {\n",
       "  background-color: #0043ce;\n",
       "  color: white;\n",
       "}\n",
       "</style>\n",
       "<a href=\"https://stackoverflow.com/search?q=NameError: name 'calculate_j_matrix' is not defined\" target='_blank'><button class='button iqx-button'>Search for solution online</button></a>\n"
      ],
      "text/plain": [
       "<IPython.core.display.HTML object>"
      ]
     },
     "metadata": {},
     "output_type": "display_data"
    }
   ],
   "source": [
    "j_matrix = calculate_j_matrix()\n",
    "binary_vars = []\n",
    "\n",
    "qp = QuadraticProgram()\n",
    "linear_coefficients = {}\n",
    "quadratic_coefficients = {}\n",
    "\n",
    "#iterate through each codon for each position, adding a binary variable representing the value \n",
    "#of that codon appearing in that position\n",
    "for i in range(num_codons):\n",
    "    for j in range(num_positions):\n",
    "        var = qp.binary_var(name=f'x_{i}_{j}')\n",
    "        binary_vars.append(var)\n",
    "        #attach a linear coefficient (representing how likely that codon is to appear in that position)\n",
    "        #to the ith codon at the jth position \n",
    "        linear_coefficients[f'x_{i}_{j}'] = weights_matrix[i, j]\n",
    "        if j > i:\n",
    "            #attach a quadratic coefficient (representing the stability of the sequence \n",
    "            #if the current codon appears in the current position and the next codon appears in the next position)\n",
    "            quadratic_coefficients[(f'x_{i}_{j-1}', f'x_{i+1}_{j}')] = j_matrix[i, j]\n",
    "            \n",
    "#attach linear constraints so each position can only have one codon appearing with 100% certainty\n",
    "#all other codons are zero\n",
    "for j in range(len(j_matrix)):\n",
    "    constraint_dict = {var_name: 1.0 for var_name in [f'x_{i}_{j}' for i in range(len(j_matrix))]}\n",
    "    qp.linear_constraint(linear=constraint_dict, sense='==', rhs=1.0)\n",
    "\n",
    "#obtain the objective function based on coefficients\n",
    "qp.maximize(linear=linear_coefficients, quadratic=quadratic_coefficients)"
   ]
  },
  {
   "cell_type": "code",
   "execution_count": 24,
   "id": "1dc59783-54b4-40fe-b650-7512dc1dc0df",
   "metadata": {
    "tags": []
   },
   "outputs": [
    {
     "name": "stderr",
     "output_type": "stream",
     "text": [
      "qiskit_runtime_service.__init__:INFO:2024-04-14 13:16:53,568: Default instance: ibm-q/open/main\n"
     ]
    }
   ],
   "source": [
    "service = QiskitRuntimeService(channel=\"ibm_quantum\")\n",
    "backend = service.get_backend(\"ibmq_qasm_simulator\") # delete line when ready\n",
    "simulator = AerSimulator()"
   ]
  },
  {
   "cell_type": "code",
   "execution_count": null,
   "id": "7695d064-4e05-411b-8019-af0f6f47daa1",
   "metadata": {
    "tags": []
   },
   "outputs": [],
   "source": [
    "#for comparision with classical results\n",
    "exact_mes = NumPyMinimumEigensolver()\n",
    "exact = MinimumEigenOptimizer(exact_mes)\n",
    "exact_result = exact.solve(qp)\n",
    "print(\"classical result\")\n",
    "print_results(exact_result)"
   ]
  },
  {
   "cell_type": "code",
   "execution_count": null,
   "id": "06f9705e-bfd2-4735-a17f-49dd62268bb3",
   "metadata": {
    "tags": []
   },
   "outputs": [],
   "source": [
    "#define a qaoa to run \n",
    "qaoa = QAOA(sampler=simulator, optimizer=COBYLA())\n",
    "\n",
    "#find the ising hamiltonian and run the qaoa\n",
    "min_eigen_optimizer = MinimumEigenOptimizer(qaoa)\n",
    "\n",
    "quantum_result = min_eigen_optimizer.solve(qp)\n",
    "print(\"quantum results:\")\n",
    "print_results(quantum_result)"
   ]
  }
 ],
 "metadata": {
  "kernelspec": {
   "display_name": "Qiskit v1.0.2 (ipykernel)",
   "language": "python",
   "name": "python3"
  },
  "language_info": {
   "codemirror_mode": {
    "name": "ipython",
    "version": 3
   },
   "file_extension": ".py",
   "mimetype": "text/x-python",
   "name": "python",
   "nbconvert_exporter": "python",
   "pygments_lexer": "ipython3",
   "version": "3.10.8"
  },
  "widgets": {
   "application/vnd.jupyter.widget-state+json": {
    "state": {},
    "version_major": 2,
    "version_minor": 0
   }
  }
 },
 "nbformat": 4,
 "nbformat_minor": 5
}
