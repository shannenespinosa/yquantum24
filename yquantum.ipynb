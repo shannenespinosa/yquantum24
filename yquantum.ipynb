{
 "cells": [
  {
   "cell_type": "code",
   "execution_count": 5,
   "id": "e4a1b1cf-f436-4275-ac80-733aa50a8579",
   "metadata": {
    "tags": []
   },
   "outputs": [
    {
     "name": "stdout",
     "output_type": "stream",
     "text": [
      "Collecting git+https://github.com/Benjamin-Lee/CodonAdaptationIndex.git\n",
      "  Cloning https://github.com/Benjamin-Lee/CodonAdaptationIndex.git to /tmp/pip-req-build-fd_1t8bu\n",
      "  Running command git clone --filter=blob:none --quiet https://github.com/Benjamin-Lee/CodonAdaptationIndex.git /tmp/pip-req-build-fd_1t8bu\n",
      "  Resolved https://github.com/Benjamin-Lee/CodonAdaptationIndex.git to commit b6e017a92c58829f6a5aec8c26a21262bc2a6610\n",
      "  Preparing metadata (setup.py) ... \u001b[?25ldone\n",
      "\u001b[?25hRequirement already satisfied: scipy in /opt/conda/lib/python3.10/site-packages (from CAI==1.0.5.dev3+gb6e017a) (1.12.0)\n",
      "Requirement already satisfied: biopython in /opt/conda/lib/python3.10/site-packages (from CAI==1.0.5.dev3+gb6e017a) (1.83)\n",
      "Requirement already satisfied: click in /opt/conda/lib/python3.10/site-packages (from CAI==1.0.5.dev3+gb6e017a) (8.1.3)\n",
      "Requirement already satisfied: numpy in /opt/conda/lib/python3.10/site-packages (from biopython->CAI==1.0.5.dev3+gb6e017a) (1.23.5)\n",
      "Building wheels for collected packages: CAI\n",
      "  Building wheel for CAI (setup.py) ... \u001b[?25ldone\n",
      "\u001b[?25h  Created wheel for CAI: filename=CAI-1.0.5.dev3+gb6e017a.d20240414-py3-none-any.whl size=7822 sha256=6dbd73a149ca17e84e7d8d41e7797ec802053de623384f5618f95b3e44e80875\n",
      "  Stored in directory: /tmp/pip-ephem-wheel-cache-1ubs5jzo/wheels/b7/62/7a/6b6b3df9a7e18e6d1cff29b703318c7607f833e330c59bfdbc\n",
      "Successfully built CAI\n",
      "Installing collected packages: CAI\n",
      "Successfully installed CAI-1.0.5.dev3+gb6e017a.d20240414\n",
      "Note: you may need to restart the kernel to use updated packages.\n"
     ]
    }
   ],
   "source": [
    "pip install biopython\n",
    "pip install git+https://github.com/Benjamin-Lee/CodonAdaptationIndex.git"
   ]
  },
  {
   "cell_type": "code",
   "execution_count": 23,
   "id": "952168e1-f87b-4a42-8870-59ef434b783d",
   "metadata": {
    "tags": []
   },
   "outputs": [
    {
     "name": "stdout",
     "output_type": "stream",
     "text": [
      "CAI Matrix:\n",
      "[[0.e+00 1.e+00 1.e+00 1.e+00]\n",
      " [0.e+00 0.e+00 1.e+03 1.e+03]\n",
      " [0.e+00 0.e+00 0.e+00 5.e-01]\n",
      " [0.e+00 0.e+00 0.e+00 0.e+00]]\n"
     ]
    },
    {
     "name": "stderr",
     "output_type": "stream",
     "text": [
      "/opt/conda/lib/python3.10/site-packages/numpy/lib/function_base.py:520: RuntimeWarning: Mean of empty slice.\n",
      "  avg = a.mean(axis, **keepdims_kw)\n",
      "/opt/conda/lib/python3.10/site-packages/numpy/core/_methods.py:129: RuntimeWarning: invalid value encountered in scalar divide\n",
      "  ret = ret.dtype.type(ret / rcount)\n"
     ]
    }
   ],
   "source": [
    "from CAI import CAI\n",
    "from Bio.Seq import Seq\n",
    "import numpy as np\n",
    "import math\n",
    "\n",
    "# Array of codons\n",
    "codons = [\"ATA\", \"ATG\", \"AAT\", \"AAC\"]\n",
    "\n",
    "num_positions = 3\n",
    "num_codons = len(codons)\n",
    "\n",
    "# Initialize empty NumPy array for storing CAI values\n",
    "num_codons = len(codons)\n",
    "cai_matrix = np.zeros((num_codons, num_codons))\n",
    "\n",
    "# Iterate through each pair of codons\n",
    "for i in range(num_codons):\n",
    "    for j in range(i+1, num_codons):  # Only iterate over upper triangular part\n",
    "        codon_i = codons[i]\n",
    "        codon_j = codons[j]\n",
    "        \n",
    "        # Calculate CAI for codon_i with respect to codon_j\n",
    "        cai_value = CAI(Seq(codon_i), reference=[Seq(codon_j)])\n",
    "        if math.isnan(cai_value):\n",
    "            cai_value = 1000\n",
    "        # Store CAI value in the upper triangular part of the matrix\n",
    "        cai_matrix[i, j] = cai_value\n",
    "\n",
    "# Print the resulting CAI matrix\n",
    "print(\"CAI Matrix:\")\n",
    "print(cai_matrix)"
   ]
  },
  {
   "cell_type": "code",
   "execution_count": 29,
   "id": "6f928346-2dc6-4b44-8d3a-7a0639031580",
   "metadata": {
    "tags": []
   },
   "outputs": [],
   "source": [
    "def print_results(result):\n",
    "    binary_vars = result.variables\n",
    "    binary_values = result.x\n",
    "\n",
    "    # Initialize an empty matrix\n",
    "    matrix = np.zeros((num_codons, num_positions))\n",
    "\n",
    "    # Populate the matrix with the binary variable values\n",
    "    for value, var in zip(binary_values, binary_vars):\n",
    "        if value == 1.0:\n",
    "            parts = var.name.split('_')\n",
    "            codon_index = int(parts[1])\n",
    "            position_index = int(parts[2])\n",
    "            matrix[codon_index, position_index] = 1\n",
    "\n",
    "    # Print or visualize the matrix\n",
    "    print(matrix)"
   ]
  },
  {
   "cell_type": "code",
   "execution_count": 30,
   "id": "1977992e-819b-484e-b116-082b94c6493c",
   "metadata": {
    "tags": []
   },
   "outputs": [
    {
     "name": "stdout",
     "output_type": "stream",
     "text": [
      "{'x_0_0': 0.8, 'x_0_1': 0.3, 'x_0_2': 0.0, 'x_1_0': 0.2, 'x_1_1': 0.5, 'x_1_2': 0.0, 'x_2_0': 0.0, 'x_2_1': 0.5, 'x_2_2': 0.5, 'x_3_0': 0.0, 'x_3_1': 0.5, 'x_3_2': 0.5}\n",
      "{('x_0_0', 'x_1_1'): 1.0, ('x_0_1', 'x_1_2'): 1.0, ('x_1_1', 'x_2_2'): 1000.0}\n",
      "quantum results:\n",
      "[[1. 0. 0.]\n",
      " [0. 1. 0.]\n",
      " [0. 0. 1.]\n",
      " [0. 0. 0.]]\n",
      "classical result\n",
      "[[1. 0. 0.]\n",
      " [0. 1. 0.]\n",
      " [0. 0. 1.]\n",
      " [0. 0. 0.]]\n"
     ]
    }
   ],
   "source": [
    "from qiskit_algorithms import NumPyMinimumEigensolver\n",
    "from qiskit_optimization import QuadraticProgram\n",
    "from qiskit_optimization.converters import QuadraticProgramToQubo\n",
    "from qiskit_optimization.algorithms import MinimumEigenOptimizer\n",
    "import numpy as np\n",
    "from qiskit_algorithms import QAOA\n",
    "from qiskit_algorithms.optimizers import COBYLA\n",
    "from qiskit.primitives import Sampler\n",
    "\n",
    "weights_matrix = np.array([[0.8, 0.3, 0.0, 0.0],  # Codon 1\n",
    "                            [0.2, 0.5, 0.0, 0.0],  # Codon 2\n",
    "                            [0.0, 0.5, 0.5, 0.5],\n",
    "                           [0.0, 0.5, 0.5, 0.5]])  # Codon 3\n",
    "\n",
    "binary_vars = []\n",
    "\n",
    "qp = QuadraticProgram()\n",
    "linear_coefficients = {}\n",
    "quadratic_coefficients = {}\n",
    "for i in range(num_codons):\n",
    "    for j in range(num_positions):\n",
    "        var = qp.binary_var(name=f'x_{i}_{j}')\n",
    "        binary_vars.append(var)\n",
    "        linear_coefficients[f'x_{i}_{j}'] = weights_matrix[i, j]\n",
    "        if j > i:\n",
    "            quadratic_coefficients[(f'x_{i}_{j-1}', f'x_{i+1}_{j}')] = cai_matrix[i, j]\n",
    "\n",
    "print(linear_coefficients)\n",
    "print(quadratic_coefficients)\n",
    "        \n",
    "for j in range(num_positions):\n",
    "    constraint_dict = {var_name: 1.0 for var_name in [f'x_{i}_{j}' for i in range(num_codons)]}\n",
    "    qp.linear_constraint(linear=constraint_dict, sense='==', rhs=1.0)\n",
    "\n",
    "# Set the objective function to maximize\n",
    "qp.maximize(linear=linear_coefficients, quadratic=quadratic_coefficients)\n",
    "\n",
    "qaoa = QAOA(sampler=Sampler(), optimizer=COBYLA())\n",
    "min_eigen_optimizer = MinimumEigenOptimizer(qaoa)\n",
    "quantum_result = min_eigen_optimizer.solve(qp)\n",
    "print(\"quantum results:\")\n",
    "print_results(quantum_result)\n",
    "\n",
    "\n",
    "# Print the optimal solution\n",
    "exact_mes = NumPyMinimumEigensolver()\n",
    "exact = MinimumEigenOptimizer(exact_mes)\n",
    "exact_result = exact.solve(qp)\n",
    "print(\"classical result\")\n",
    "print_results(exact_result)"
   ]
  }
 ],
 "metadata": {
  "kernelspec": {
   "display_name": "Qiskit v1.0.2 (ipykernel)",
   "language": "python",
   "name": "python3"
  },
  "language_info": {
   "codemirror_mode": {
    "name": "ipython",
    "version": 3
   },
   "file_extension": ".py",
   "mimetype": "text/x-python",
   "name": "python",
   "nbconvert_exporter": "python",
   "pygments_lexer": "ipython3",
   "version": "3.10.8"
  },
  "widgets": {
   "application/vnd.jupyter.widget-state+json": {
    "state": {},
    "version_major": 2,
    "version_minor": 0
   }
  }
 },
 "nbformat": 4,
 "nbformat_minor": 5
}
